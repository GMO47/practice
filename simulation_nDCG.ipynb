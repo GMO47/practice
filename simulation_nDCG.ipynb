{
 "cells": [
  {
   "cell_type": "code",
   "execution_count": 155,
   "metadata": {},
   "outputs": [
    {
     "data": {
      "text/plain": [
       "1.0"
      ]
     },
     "execution_count": 155,
     "metadata": {},
     "output_type": "execute_result"
    }
   ],
   "source": [
    "import numpy as np\n",
    "from sklearn.metrics import ndcg_score, dcg_score\n",
    " # we have groud-truth relevance of some answers to a query:\n",
    "true_relevance = np.asarray([[0, 1, 2, 3]])\n",
    " # we predict some scores (relevance) for the answers\n",
    "scores = np.asarray([[0.1, 0.2, 0.3, 0.4]])\n",
    "ndcg_score(true_relevance, scores) # doctest: +ELLIPSIS"
   ]
  },
  {
   "cell_type": "code",
   "execution_count": 156,
   "metadata": {},
   "outputs": [
    {
     "data": {
      "text/plain": [
       "0.6138273133441086"
      ]
     },
     "execution_count": 156,
     "metadata": {},
     "output_type": "execute_result"
    }
   ],
   "source": [
    " # we have groud-truth relevance of some answers to a query:\n",
    "true_relevance = np.asarray([[0, 1, 2, 3]])\n",
    " # we predict some scores (relevance) for the answers\n",
    "scores = np.asarray([[0.4, 0.3, 0.2, 0.1]])\n",
    "ndcg_score(true_relevance, scores) # doctest: +ELLIPSIS"
   ]
  },
  {
   "cell_type": "code",
   "execution_count": null,
   "metadata": {},
   "outputs": [],
   "source": []
  }
 ],
 "metadata": {
  "kernelspec": {
   "display_name": "Python 3",
   "language": "python",
   "name": "python3"
  },
  "language_info": {
   "codemirror_mode": {
    "name": "ipython",
    "version": 3
   },
   "file_extension": ".py",
   "mimetype": "text/x-python",
   "name": "python",
   "nbconvert_exporter": "python",
   "pygments_lexer": "ipython3",
   "version": "3.7.4"
  }
 },
 "nbformat": 4,
 "nbformat_minor": 4
}
